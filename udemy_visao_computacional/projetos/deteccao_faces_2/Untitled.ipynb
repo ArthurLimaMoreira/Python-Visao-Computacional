{
 "cells": [
  {
   "cell_type": "code",
   "execution_count": 1,
   "id": "d483c255",
   "metadata": {},
   "outputs": [],
   "source": [
    "import cv2 as cv"
   ]
  },
  {
   "cell_type": "code",
   "execution_count": 2,
   "id": "8b5c3117",
   "metadata": {},
   "outputs": [
    {
     "ename": "error",
     "evalue": "OpenCV(4.5.5) D:\\a\\opencv-python\\opencv-python\\opencv\\modules\\imgproc\\src\\color.cpp:182: error: (-215:Assertion failed) !_src.empty() in function 'cv::cvtColor'\n",
     "output_type": "error",
     "traceback": [
      "\u001b[1;31m---------------------------------------------------------------------------\u001b[0m",
      "\u001b[1;31merror\u001b[0m                                     Traceback (most recent call last)",
      "\u001b[1;32mc:\\Users\\Arthur\\Documents\\GitHub\\Python-Visao-Computacional\\udemy_visao_computacional\\projetos\\deteccao_faces_2\\Untitled.ipynb Cell 2'\u001b[0m in \u001b[0;36m<cell line: 2>\u001b[1;34m()\u001b[0m\n\u001b[0;32m      <a href='vscode-notebook-cell:/c%3A/Users/Arthur/Documents/GitHub/Python-Visao-Computacional/udemy_visao_computacional/projetos/deteccao_faces_2/Untitled.ipynb#ch0000001?line=0'>1</a>\u001b[0m imagem \u001b[39m=\u001b[39m  cv\u001b[39m.\u001b[39mimread(\u001b[39m'\u001b[39m\u001b[39mudemy_visao_computacional\u001b[39m\u001b[39m\\\u001b[39m\u001b[39mImages\u001b[39m\u001b[39m\\\u001b[39m\u001b[39mpeople2.jpg\u001b[39m\u001b[39m'\u001b[39m)\n\u001b[1;32m----> <a href='vscode-notebook-cell:/c%3A/Users/Arthur/Documents/GitHub/Python-Visao-Computacional/udemy_visao_computacional/projetos/deteccao_faces_2/Untitled.ipynb#ch0000001?line=1'>2</a>\u001b[0m imagem_cinza  \u001b[39m=\u001b[39m cv\u001b[39m.\u001b[39;49mcvtColor(imagem, cv\u001b[39m.\u001b[39;49mCOLOR_BGR2GRAY)\n\u001b[0;32m      <a href='vscode-notebook-cell:/c%3A/Users/Arthur/Documents/GitHub/Python-Visao-Computacional/udemy_visao_computacional/projetos/deteccao_faces_2/Untitled.ipynb#ch0000001?line=3'>4</a>\u001b[0m \u001b[39m#   JANELA PARA EXIBIR A IMAGEM\u001b[39;00m\n\u001b[0;32m      <a href='vscode-notebook-cell:/c%3A/Users/Arthur/Documents/GitHub/Python-Visao-Computacional/udemy_visao_computacional/projetos/deteccao_faces_2/Untitled.ipynb#ch0000001?line=4'>5</a>\u001b[0m cv\u001b[39m.\u001b[39mnamedWindow(\u001b[39m'\u001b[39m\u001b[39mresultado\u001b[39m\u001b[39m'\u001b[39m)\n",
      "\u001b[1;31merror\u001b[0m: OpenCV(4.5.5) D:\\a\\opencv-python\\opencv-python\\opencv\\modules\\imgproc\\src\\color.cpp:182: error: (-215:Assertion failed) !_src.empty() in function 'cv::cvtColor'\n"
     ]
    }
   ],
   "source": [
    "imagem =  cv.imread('udemy_visao_computacional\\Images\\people2.jpg')\n",
    "imagem_cinza  = cv.cvtColor(imagem, cv.COLOR_BGR2GRAY)\n",
    "\n",
    "#   JANELA PARA EXIBIR A IMAGEM\n",
    "cv.namedWindow('resultado')\n",
    "cv.imshow('resultado', imagem)\n",
    "cv.waitKey()\n",
    "\n"
   ]
  }
 ],
 "metadata": {
  "interpreter": {
   "hash": "d56c3d14ea9991e943607aaebbc638fd1a0bf32b388456ff8fce30f8fe2dda91"
  },
  "kernelspec": {
   "display_name": "Python 3.10.4 64-bit",
   "language": "python",
   "name": "python3"
  },
  "language_info": {
   "codemirror_mode": {
    "name": "ipython",
    "version": 3
   },
   "file_extension": ".py",
   "mimetype": "text/x-python",
   "name": "python",
   "nbconvert_exporter": "python",
   "pygments_lexer": "ipython3",
   "version": "3.10.4"
  }
 },
 "nbformat": 4,
 "nbformat_minor": 5
}
