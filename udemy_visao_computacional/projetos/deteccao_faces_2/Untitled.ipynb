{
 "cells": [
  {
   "cell_type": "code",
   "execution_count": 1,
   "id": "12439255-0565-4a5b-9cc5-934e83da1f36",
   "metadata": {},
   "outputs": [],
   "source": [
    "import cv2 as cv"
   ]
  },
  {
   "cell_type": "code",
   "execution_count": 2,
   "id": "ff377dd9",
   "metadata": {},
   "outputs": [
    {
     "ename": "error",
     "evalue": "OpenCV(4.5.5) D:\\a\\opencv-python\\opencv-python\\opencv\\modules\\imgproc\\src\\resize.cpp:4052: error: (-215:Assertion failed) !ssize.empty() in function 'cv::resize'\n",
     "output_type": "error",
     "traceback": [
      "\u001b[1;31m---------------------------------------------------------------------------\u001b[0m",
      "\u001b[1;31merror\u001b[0m                                     Traceback (most recent call last)",
      "\u001b[1;32m~\\AppData\\Local\\Temp/ipykernel_19288/3740680809.py\u001b[0m in \u001b[0;36m<module>\u001b[1;34m\u001b[0m\n\u001b[0;32m      1\u001b[0m \u001b[1;31m#   IMPORTAÇÃO DA IMAGEM E CONVERSÕES\u001b[0m\u001b[1;33m\u001b[0m\u001b[1;33m\u001b[0m\u001b[0m\n\u001b[0;32m      2\u001b[0m \u001b[0mimg\u001b[0m \u001b[1;33m=\u001b[0m \u001b[0mcv\u001b[0m\u001b[1;33m.\u001b[0m\u001b[0mimread\u001b[0m\u001b[1;33m(\u001b[0m\u001b[1;34m'udemy_visao_computacional\\Images\\people1.jpg'\u001b[0m\u001b[1;33m)\u001b[0m    \u001b[1;31m#IMPORTANDO IMAGEM\u001b[0m\u001b[1;33m\u001b[0m\u001b[1;33m\u001b[0m\u001b[0m\n\u001b[1;32m----> 3\u001b[1;33m \u001b[0mimg\u001b[0m \u001b[1;33m=\u001b[0m \u001b[0mcv\u001b[0m\u001b[1;33m.\u001b[0m\u001b[0mresize\u001b[0m\u001b[1;33m(\u001b[0m\u001b[0mimg\u001b[0m\u001b[1;33m,\u001b[0m \u001b[1;33m(\u001b[0m\u001b[1;36m800\u001b[0m\u001b[1;33m,\u001b[0m\u001b[1;36m600\u001b[0m\u001b[1;33m)\u001b[0m\u001b[1;33m)\u001b[0m                          \u001b[1;31m#REDIMENSIONANDO IMAGEM PARA 800X600 PIXELS\u001b[0m\u001b[1;33m\u001b[0m\u001b[1;33m\u001b[0m\u001b[0m\n\u001b[0m\u001b[0;32m      4\u001b[0m \u001b[0mimagem\u001b[0m  \u001b[1;33m=\u001b[0m \u001b[0mcv\u001b[0m\u001b[1;33m.\u001b[0m\u001b[0mcvtColor\u001b[0m\u001b[1;33m(\u001b[0m\u001b[0mimg\u001b[0m\u001b[1;33m,\u001b[0m \u001b[0mcv\u001b[0m\u001b[1;33m.\u001b[0m\u001b[0mCOLOR_BGR2GRAY\u001b[0m\u001b[1;33m)\u001b[0m                \u001b[1;31m#CONVERTENDO PARA ESCALA DE CINZA (CANAL ÚNICO)\u001b[0m\u001b[1;33m\u001b[0m\u001b[1;33m\u001b[0m\u001b[0m\n\u001b[0;32m      5\u001b[0m \u001b[1;33m\u001b[0m\u001b[0m\n",
      "\u001b[1;31merror\u001b[0m: OpenCV(4.5.5) D:\\a\\opencv-python\\opencv-python\\opencv\\modules\\imgproc\\src\\resize.cpp:4052: error: (-215:Assertion failed) !ssize.empty() in function 'cv::resize'\n"
     ]
    }
   ],
   "source": [
    "#   IMPORTAÇÃO DA IMAGEM E CONVERSÕES\n",
    "img = cv.imread('udemy_visao_computacional\\Images\\people1.jpg')    #IMPORTANDO IMAGEM\n",
    "img = cv.resize(img, (800,600))                          #REDIMENSIONANDO IMAGEM PARA 800X600 PIXELS\n",
    "imagem  = cv.cvtColor(img, cv.COLOR_BGR2GRAY)                #CONVERTENDO PARA ESCALA DE CINZA (CANAL ÚNICO)\n",
    "\n",
    "\n",
    "#   DETECCAO DAS FACES\n",
    "detector = cv.CascadeClassifier('udemy_visao_computacional\\cascades\\haarcascade_frontalface_default.xml')   #busca arquivo .xml do classificador de faces\n",
    "\n",
    "deteccao = detector.detectMultiScale(imagem, scaleFactor=1.098)    #realiza a detecção das faces na imagem\n",
    "\n",
    "# print(deteccao)                                 #mostra no terminal as corrdenadas XY das faces detectadas (início delas e tamanho da face detectada)\n",
    "\n",
    "for x, y, w, h in deteccao:\n",
    "    cv.rectangle(img, (x, y), (x + w, y + h),(0, 0, 255), 3)   #cria um ponto no pixel onde inicia cada face\n",
    "    #   imagem, XY inicial, lados do retangulo, cor, espessura da borda    \n",
    "    #print(x, y, w, h)\n",
    "\n",
    "#   JANELA PARA EXIBIR A IMAGEM\n",
    "cv.namedWindow('imagem')\n",
    "cv.imshow('imagem', img)\n",
    "cv.waitKey()"
   ]
  },
  {
   "cell_type": "code",
   "execution_count": null,
   "id": "c21ea83b-a75b-409b-8ed0-89f8656c0709",
   "metadata": {},
   "outputs": [],
   "source": []
  }
 ],
 "metadata": {
  "interpreter": {
   "hash": "4f0dd62c99d5516f9da1fc0efe60cf9c70d664db6780b610dedb79ea488973d8"
  },
  "kernelspec": {
   "display_name": "Python 3 (ipykernel)",
   "language": "python",
   "name": "python3"
  },
  "language_info": {
   "codemirror_mode": {
    "name": "ipython",
    "version": 3
   },
   "file_extension": ".py",
   "mimetype": "text/x-python",
   "name": "python",
   "nbconvert_exporter": "python",
   "pygments_lexer": "ipython3",
   "version": "3.9.7"
  }
 },
 "nbformat": 4,
 "nbformat_minor": 5
}
